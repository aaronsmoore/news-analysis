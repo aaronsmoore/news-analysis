{
 "cells": [
  {
   "cell_type": "markdown",
   "metadata": {},
   "source": [
    "# News Classification and Sentiment Analysis"
   ]
  },
  {
   "cell_type": "markdown",
   "metadata": {},
   "source": [
    "In this notebook, we'll be analyzing a news data set from this website (https://data-flair.training/blogs/advanced-python-project-detecting-fake-news/)"
   ]
  },
  {
   "cell_type": "markdown",
   "metadata": {},
   "source": [
    "tl;dr:\n",
    "\n",
    "Libraries used:\n",
    "* ```sklearn``` specifically ```PassiveAggressiveClassifier``` among many more\n",
    "* ```re```\n",
    "* The VADER lexicon\n",
    "* and many more standard libraries\n",
    "\n",
    "Key Takeaways:\n",
    "* We trained a PassiveAgressiveClassifier and achieved an accuracy of about 94% (with precision and recall ~93%)\n",
    "* Preformed sentiment analysis and saw that FAKE articles were the usually the most positive or negative articles present in the dataset\n",
    "\n",
    "Things I Learned:\n",
    "* Fake news is really scary and often seems real\n",
    "* How much choice of model impacts accuracy"
   ]
  },
  {
   "cell_type": "code",
   "execution_count": 218,
   "metadata": {},
   "outputs": [],
   "source": [
    "from sklearn.feature_extraction import DictVectorizer\n",
    "import numpy as np\n",
    "import pandas as pd\n",
    "import itertools\n",
    "from sklearn.model_selection import train_test_split\n",
    "from sklearn.feature_extraction.text import TfidfVectorizer\n",
    "from sklearn.linear_model import PassiveAggressiveClassifier\n",
    "from sklearn.metrics import accuracy_score, confusion_matrix, precision_score\n",
    "from sklearn.tree import DecisionTreeClassifier\n",
    "from sklearn.ensemble import RandomForestClassifier\n",
    "from sklearn.neighbors import KNeighborsClassifier\n",
    "\n",
    "pd.set_option('max_colwidth', 280)\n",
    "\n",
    "%matplotlib inline\n",
    "plt.style.use('fivethirtyeight')\n",
    "import seaborn as sns\n",
    "sns.set()\n",
    "sns.set_context(\"talk\")\n",
    "import re"
   ]
  },
  {
   "cell_type": "code",
   "execution_count": 219,
   "metadata": {},
   "outputs": [
    {
     "data": {
      "text/html": [
       "<div>\n",
       "<style scoped>\n",
       "    .dataframe tbody tr th:only-of-type {\n",
       "        vertical-align: middle;\n",
       "    }\n",
       "\n",
       "    .dataframe tbody tr th {\n",
       "        vertical-align: top;\n",
       "    }\n",
       "\n",
       "    .dataframe thead th {\n",
       "        text-align: right;\n",
       "    }\n",
       "</style>\n",
       "<table border=\"1\" class=\"dataframe\">\n",
       "  <thead>\n",
       "    <tr style=\"text-align: right;\">\n",
       "      <th></th>\n",
       "      <th>Unnamed: 0</th>\n",
       "      <th>title</th>\n",
       "      <th>text</th>\n",
       "      <th>label</th>\n",
       "    </tr>\n",
       "  </thead>\n",
       "  <tbody>\n",
       "    <tr>\n",
       "      <th>0</th>\n",
       "      <td>8476</td>\n",
       "      <td>You Can Smell Hillary’s Fear</td>\n",
       "      <td>Daniel Greenfield, a Shillman Journalism Fellow at the Freedom Center, is a New York writer focusing on radical Islam. \\nIn the final stretch of the election, Hillary Rodham Clinton has gone to war with the FBI. \\nThe word “unprecedented” has been thrown around so often this ...</td>\n",
       "      <td>FAKE</td>\n",
       "    </tr>\n",
       "    <tr>\n",
       "      <th>1</th>\n",
       "      <td>10294</td>\n",
       "      <td>Watch The Exact Moment Paul Ryan Committed Political Suicide At A Trump Rally (VIDEO)</td>\n",
       "      <td>Google Pinterest Digg Linkedin Reddit Stumbleupon Print Delicious Pocket Tumblr \\nThere are two fundamental truths in this world: Paul Ryan desperately wants to be president. And Paul Ryan will never be president. Today proved it. \\nIn a particularly staggering example of pol...</td>\n",
       "      <td>FAKE</td>\n",
       "    </tr>\n",
       "    <tr>\n",
       "      <th>2</th>\n",
       "      <td>3608</td>\n",
       "      <td>Kerry to go to Paris in gesture of sympathy</td>\n",
       "      <td>U.S. Secretary of State John F. Kerry said Monday that he will stop in Paris later this week, amid criticism that no top American officials attended Sunday’s unity march against terrorism.\\n\\nKerry said he expects to arrive in Paris Thursday evening, as he heads home after a ...</td>\n",
       "      <td>REAL</td>\n",
       "    </tr>\n",
       "    <tr>\n",
       "      <th>3</th>\n",
       "      <td>10142</td>\n",
       "      <td>Bernie supporters on Twitter erupt in anger against the DNC: 'We tried to warn you!'</td>\n",
       "      <td>— Kaydee King (@KaydeeKing) November 9, 2016 The lesson from tonight's Dem losses: Time for Democrats to start listening to the voters. Stop running the same establishment candidates. \\n— People For Bernie (@People4Bernie) November 9, 2016 If Dems didn't want a tight race the...</td>\n",
       "      <td>FAKE</td>\n",
       "    </tr>\n",
       "    <tr>\n",
       "      <th>4</th>\n",
       "      <td>875</td>\n",
       "      <td>The Battle of New York: Why This Primary Matters</td>\n",
       "      <td>It's primary day in New York and front-runners Hillary Clinton and Donald Trump are leading in the polls.\\n\\nTrump is now vowing to win enough delegates to clinch the Republican nomination and prevent a contested convention. But Sens.Ted Cruz, R-Texas, Bernie Sanders, D-Vt., ...</td>\n",
       "      <td>REAL</td>\n",
       "    </tr>\n",
       "  </tbody>\n",
       "</table>\n",
       "</div>"
      ],
      "text/plain": [
       "   Unnamed: 0  \\\n",
       "0        8476   \n",
       "1       10294   \n",
       "2        3608   \n",
       "3       10142   \n",
       "4         875   \n",
       "\n",
       "                                                                                   title  \\\n",
       "0                                                           You Can Smell Hillary’s Fear   \n",
       "1  Watch The Exact Moment Paul Ryan Committed Political Suicide At A Trump Rally (VIDEO)   \n",
       "2                                            Kerry to go to Paris in gesture of sympathy   \n",
       "3   Bernie supporters on Twitter erupt in anger against the DNC: 'We tried to warn you!'   \n",
       "4                                       The Battle of New York: Why This Primary Matters   \n",
       "\n",
       "                                                                                                                                                                                                                                                                                      text  \\\n",
       "0  Daniel Greenfield, a Shillman Journalism Fellow at the Freedom Center, is a New York writer focusing on radical Islam. \\nIn the final stretch of the election, Hillary Rodham Clinton has gone to war with the FBI. \\nThe word “unprecedented” has been thrown around so often this ...   \n",
       "1  Google Pinterest Digg Linkedin Reddit Stumbleupon Print Delicious Pocket Tumblr \\nThere are two fundamental truths in this world: Paul Ryan desperately wants to be president. And Paul Ryan will never be president. Today proved it. \\nIn a particularly staggering example of pol...   \n",
       "2  U.S. Secretary of State John F. Kerry said Monday that he will stop in Paris later this week, amid criticism that no top American officials attended Sunday’s unity march against terrorism.\\n\\nKerry said he expects to arrive in Paris Thursday evening, as he heads home after a ...   \n",
       "3  — Kaydee King (@KaydeeKing) November 9, 2016 The lesson from tonight's Dem losses: Time for Democrats to start listening to the voters. Stop running the same establishment candidates. \\n— People For Bernie (@People4Bernie) November 9, 2016 If Dems didn't want a tight race the...   \n",
       "4  It's primary day in New York and front-runners Hillary Clinton and Donald Trump are leading in the polls.\\n\\nTrump is now vowing to win enough delegates to clinch the Republican nomination and prevent a contested convention. But Sens.Ted Cruz, R-Texas, Bernie Sanders, D-Vt., ...   \n",
       "\n",
       "  label  \n",
       "0  FAKE  \n",
       "1  FAKE  \n",
       "2  REAL  \n",
       "3  FAKE  \n",
       "4  REAL  "
      ]
     },
     "execution_count": 219,
     "metadata": {},
     "output_type": "execute_result"
    }
   ],
   "source": [
    "news_filepath=r\"C:\\Users\\am513\\Desktop\\LinkedIn\\DataSciPortfolio\\news.csv\"\n",
    "news=pd.read_csv(news_filepath)\n",
    "news.head()"
   ]
  },
  {
   "cell_type": "markdown",
   "metadata": {},
   "source": [
    "We see the data frame has 4 columns: ```Unnamed:0```, the ID of the row; ```title```, the title of the article; ```text```, the text of the article; and ```label```, whether the article is real or fake news."
   ]
  },
  {
   "cell_type": "code",
   "execution_count": 220,
   "metadata": {},
   "outputs": [
    {
     "data": {
      "text/plain": [
       "0    FAKE\n",
       "1    FAKE\n",
       "2    REAL\n",
       "3    FAKE\n",
       "4    REAL\n",
       "Name: label, dtype: object"
      ]
     },
     "execution_count": 220,
     "metadata": {},
     "output_type": "execute_result"
    }
   ],
   "source": [
    "labels=news[\"label\"]\n",
    "labels.head()"
   ]
  },
  {
   "cell_type": "markdown",
   "metadata": {},
   "source": [
    "We'll use sklearn to split the test and training data using ```train_test_split```"
   ]
  },
  {
   "cell_type": "code",
   "execution_count": 221,
   "metadata": {},
   "outputs": [],
   "source": [
    "X_train,X_test,y_train,y_test=train_test_split(news[\"text\"],labels,test_size=0.2)"
   ]
  },
  {
   "cell_type": "markdown",
   "metadata": {},
   "source": [
    "Next, we'll remove those pesky stop words and use ```TfidfVectorizer``` to get our data into a format that we can fit the model to."
   ]
  },
  {
   "cell_type": "code",
   "execution_count": 222,
   "metadata": {},
   "outputs": [],
   "source": [
    "vector=TfidfVectorizer(stop_words='english', max_df=0.7)\n",
    "vector_train=vector.fit_transform(X_train) \n",
    "vector_test=vector.transform(X_test)"
   ]
  },
  {
   "cell_type": "markdown",
   "metadata": {},
   "source": [
    "For our model, we are going to use ```PassiveAggressiveClassifier```. This model is well suited to this dataset because it is not feasible to run other more computationally strenuous models. We'll play around with different models in a little bit."
   ]
  },
  {
   "cell_type": "code",
   "execution_count": 223,
   "metadata": {},
   "outputs": [
    {
     "name": "stdout",
     "output_type": "stream",
     "text": [
      "Accuracy: 93.84%\n"
     ]
    }
   ],
   "source": [
    "pac=PassiveAggressiveClassifier(max_iter=50)\n",
    "pac.fit(vector_train,y_train)\n",
    "y_pred=pac.predict(vector_test)\n",
    "score=accuracy_score(y_test,y_pred)\n",
    "print(f'Accuracy: {round(score*100,2)}%')"
   ]
  },
  {
   "cell_type": "markdown",
   "metadata": {},
   "source": [
    "~94% isn't bad. Let's take a look at a confusion matrix and some other figures to see how well the model is actually doing."
   ]
  },
  {
   "cell_type": "code",
   "execution_count": 224,
   "metadata": {},
   "outputs": [
    {
     "name": "stdout",
     "output_type": "stream",
     "text": [
      "Confusion matrix, without normalization\n",
      "[[611  35]\n",
      " [ 43 578]]\n",
      "Normalized confusion matrix\n",
      "[[0.94582043 0.05417957]\n",
      " [0.06924316 0.93075684]]\n"
     ]
    },
    {
     "data": {
      "image/png": "[encoded data removed]",
      "text/plain": [
       "<Figure size 432x288 with 2 Axes>"
      ]
     },
     "metadata": {},
     "output_type": "display_data"
    },
    {
     "data": {
      "image/png": "[encoded data removed]",
      "text/plain": [
       "<Figure size 432x288 with 2 Axes>"
      ]
     },
     "metadata": {},
     "output_type": "display_data"
    }
   ],
   "source": [
    "cnf_matrix = confusion_matrix(y_test,y_pred, labels=['FAKE','REAL'])\n",
    "\n",
    "def plot_confusion_matrix(cm, classes,\n",
    "                          normalize=False,\n",
    "                          title='Confusion matrix',\n",
    "                          cmap=plt.cm.Blues):\n",
    "    \"\"\"\n",
    "    This function prints and plots the confusion matrix.\n",
    "    Normalization can be applied by setting `normalize=True`.\n",
    "    \"\"\"\n",
    "    import itertools\n",
    "    if normalize:\n",
    "        cm = cm.astype('float') / cm.sum(axis=1)[:, np.newaxis]\n",
    "        print(\"Normalized confusion matrix\")\n",
    "    else:\n",
    "        print('Confusion matrix, without normalization')\n",
    "\n",
    "    print(cm)\n",
    "\n",
    "    plt.imshow(cm, interpolation='nearest', cmap=cmap)\n",
    "    plt.title(title)\n",
    "    plt.colorbar()\n",
    "    tick_marks = np.arange(len(classes))\n",
    "    plt.xticks(tick_marks, classes, rotation=45)\n",
    "    plt.yticks(tick_marks, classes)\n",
    "\n",
    "    fmt = '.2f' if normalize else 'd'\n",
    "    thresh = cm.max() / 2.\n",
    "    for i, j in itertools.product(range(cm.shape[0]), range(cm.shape[1])):\n",
    "        plt.text(j, i, format(cm[i, j], fmt),\n",
    "                 horizontalalignment=\"center\",\n",
    "                 color=\"white\" if cm[i, j] > thresh else \"black\")\n",
    "\n",
    "    plt.tight_layout()\n",
    "    plt.ylabel('True label')\n",
    "    plt.xlabel('Predicted label')\n",
    "    \n",
    "class_names = ['False', 'True']\n",
    "# Plot non-normalized confusion matrix\n",
    "plt.figure()\n",
    "plt.grid(False)\n",
    "plot_confusion_matrix(cnf_matrix, classes=class_names,\n",
    "                      title='Confusion matrix, without normalization')\n",
    "\n",
    "# Plot normalized confusion matrix\n",
    "plt.figure()\n",
    "plt.grid(False)\n",
    "plot_confusion_matrix(cnf_matrix, classes=class_names, normalize=True,\n",
    "                      title='Normalized confusion matrix')"
   ]
  },
  {
   "cell_type": "markdown",
   "metadata": {},
   "source": [
    "Let's take a look at the precision and recall"
   ]
  },
  {
   "cell_type": "code",
   "execution_count": 225,
   "metadata": {},
   "outputs": [],
   "source": [
    "def score_precision(actual,pred,labels):\n",
    "    confused=confusion_matrix(actual,pred, labels=labels)\n",
    "    print(\"The precision is\", confused[1][1]/(confused[1][1]+confused[0][1]))\n",
    "    \n",
    "def score_recall(actual,pred,labels):\n",
    "    confused=confusion_matrix(actual,pred, labels=labels)\n",
    "    print(\"The recall is\", confused[1][1]/(confused[1][1]+confused[1][0]))"
   ]
  },
  {
   "cell_type": "code",
   "execution_count": 226,
   "metadata": {},
   "outputs": [
    {
     "name": "stdout",
     "output_type": "stream",
     "text": [
      "The precision is 0.9429037520391517\n"
     ]
    }
   ],
   "source": [
    "score_precision(y_test,y_pred, labels=['FAKE','REAL'])"
   ]
  },
  {
   "cell_type": "code",
   "execution_count": 227,
   "metadata": {},
   "outputs": [
    {
     "name": "stdout",
     "output_type": "stream",
     "text": [
      "The recall is 0.9307568438003221\n"
     ]
    }
   ],
   "source": [
    "score_recall(y_test,y_pred, labels=['FAKE','REAL'])"
   ]
  },
  {
   "cell_type": "code",
   "execution_count": 228,
   "metadata": {},
   "outputs": [
    {
     "data": {
      "image/png": "[encoded data removed]",
      "text/plain": [
       "<Figure size 432x288 with 2 Axes>"
      ]
     },
     "metadata": {},
     "output_type": "display_data"
    }
   ],
   "source": [
    "fig, axes = plt.subplots(1, 2)\n",
    "sns.countplot(x=y_train, ax=axes[0]);\n",
    "sns.countplot(x=y_test, ax=axes[1]);\n",
    "\n",
    "axes[0].set_title('Train')\n",
    "axes[1].set_title('Test')\n",
    "plt.tight_layout();"
   ]
  },
  {
   "cell_type": "markdown",
   "metadata": {},
   "source": [
    "Just to make sure, we'll try out a couple of other classifiers"
   ]
  },
  {
   "cell_type": "code",
   "execution_count": 229,
   "metadata": {},
   "outputs": [
    {
     "name": "stdout",
     "output_type": "stream",
     "text": [
      "Accuracy: 81.61%\n"
     ]
    }
   ],
   "source": [
    "dtc=DecisionTreeClassifier(max_depth=50)\n",
    "dtc.fit(vector_train,y_train)\n",
    "y_pred=dtc.predict(vector_test)\n",
    "score=accuracy_score(y_test,y_pred)\n",
    "print(f'Accuracy: {round(score*100,2)}%')"
   ]
  },
  {
   "cell_type": "code",
   "execution_count": 230,
   "metadata": {},
   "outputs": [
    {
     "name": "stdout",
     "output_type": "stream",
     "text": [
      "Accuracy: 88.87%\n"
     ]
    }
   ],
   "source": [
    "rfc=RandomForestClassifier(max_depth=50)\n",
    "rfc.fit(vector_train,y_train)\n",
    "y_pred=rfc.predict(vector_test)\n",
    "score=accuracy_score(y_test,y_pred)\n",
    "print(f'Accuracy: {round(score*100,2)}%')"
   ]
  },
  {
   "cell_type": "code",
   "execution_count": 231,
   "metadata": {},
   "outputs": [
    {
     "name": "stdout",
     "output_type": "stream",
     "text": [
      "Accuracy: 57.3%\n"
     ]
    }
   ],
   "source": [
    "knn=KNeighborsClassifier(n_neighbors=5)\n",
    "knn.fit(vector_train,y_train)\n",
    "y_pred=knn.predict(vector_test)\n",
    "score=accuracy_score(y_test,y_pred)\n",
    "print(f'Accuracy: {round(score*100,2)}%')"
   ]
  },
  {
   "cell_type": "markdown",
   "metadata": {},
   "source": [
    "Seems like out original choice was the best one. "
   ]
  },
  {
   "cell_type": "markdown",
   "metadata": {},
   "source": [
    "# Sentiment Analysis"
   ]
  },
  {
   "cell_type": "markdown",
   "metadata": {},
   "source": [
    "Sentiment analysis time! We will use the VADER (Valence Aware Dictionary and sEntiment Reasoner) lexicon to analyze the sentiment of the news articles."
   ]
  },
  {
   "cell_type": "code",
   "execution_count": 232,
   "metadata": {},
   "outputs": [
    {
     "data": {
      "text/html": [
       "<div>\n",
       "<style scoped>\n",
       "    .dataframe tbody tr th:only-of-type {\n",
       "        vertical-align: middle;\n",
       "    }\n",
       "\n",
       "    .dataframe tbody tr th {\n",
       "        vertical-align: top;\n",
       "    }\n",
       "\n",
       "    .dataframe thead th {\n",
       "        text-align: right;\n",
       "    }\n",
       "</style>\n",
       "<table border=\"1\" class=\"dataframe\">\n",
       "  <thead>\n",
       "    <tr style=\"text-align: right;\">\n",
       "      <th></th>\n",
       "      <th>Unnamed: 0</th>\n",
       "      <th>title</th>\n",
       "      <th>text</th>\n",
       "      <th>label</th>\n",
       "    </tr>\n",
       "  </thead>\n",
       "  <tbody>\n",
       "    <tr>\n",
       "      <th>0</th>\n",
       "      <td>8476</td>\n",
       "      <td>You Can Smell Hillary’s Fear</td>\n",
       "      <td>Daniel Greenfield, a Shillman Journalism Fellow at the Freedom Center, is a New York writer focusing on radical Islam. \\nIn the final stretch of the election, Hillary Rodham Clinton has gone to war with the FBI. \\nThe word “unprecedented” has been thrown around so often this ...</td>\n",
       "      <td>FAKE</td>\n",
       "    </tr>\n",
       "    <tr>\n",
       "      <th>1</th>\n",
       "      <td>10294</td>\n",
       "      <td>Watch The Exact Moment Paul Ryan Committed Political Suicide At A Trump Rally (VIDEO)</td>\n",
       "      <td>Google Pinterest Digg Linkedin Reddit Stumbleupon Print Delicious Pocket Tumblr \\nThere are two fundamental truths in this world: Paul Ryan desperately wants to be president. And Paul Ryan will never be president. Today proved it. \\nIn a particularly staggering example of pol...</td>\n",
       "      <td>FAKE</td>\n",
       "    </tr>\n",
       "    <tr>\n",
       "      <th>2</th>\n",
       "      <td>3608</td>\n",
       "      <td>Kerry to go to Paris in gesture of sympathy</td>\n",
       "      <td>U.S. Secretary of State John F. Kerry said Monday that he will stop in Paris later this week, amid criticism that no top American officials attended Sunday’s unity march against terrorism.\\n\\nKerry said he expects to arrive in Paris Thursday evening, as he heads home after a ...</td>\n",
       "      <td>REAL</td>\n",
       "    </tr>\n",
       "    <tr>\n",
       "      <th>3</th>\n",
       "      <td>10142</td>\n",
       "      <td>Bernie supporters on Twitter erupt in anger against the DNC: 'We tried to warn you!'</td>\n",
       "      <td>— Kaydee King (@KaydeeKing) November 9, 2016 The lesson from tonight's Dem losses: Time for Democrats to start listening to the voters. Stop running the same establishment candidates. \\n— People For Bernie (@People4Bernie) November 9, 2016 If Dems didn't want a tight race the...</td>\n",
       "      <td>FAKE</td>\n",
       "    </tr>\n",
       "    <tr>\n",
       "      <th>4</th>\n",
       "      <td>875</td>\n",
       "      <td>The Battle of New York: Why This Primary Matters</td>\n",
       "      <td>It's primary day in New York and front-runners Hillary Clinton and Donald Trump are leading in the polls.\\n\\nTrump is now vowing to win enough delegates to clinch the Republican nomination and prevent a contested convention. But Sens.Ted Cruz, R-Texas, Bernie Sanders, D-Vt., ...</td>\n",
       "      <td>REAL</td>\n",
       "    </tr>\n",
       "  </tbody>\n",
       "</table>\n",
       "</div>"
      ],
      "text/plain": [
       "   Unnamed: 0  \\\n",
       "0        8476   \n",
       "1       10294   \n",
       "2        3608   \n",
       "3       10142   \n",
       "4         875   \n",
       "\n",
       "                                                                                   title  \\\n",
       "0                                                           You Can Smell Hillary’s Fear   \n",
       "1  Watch The Exact Moment Paul Ryan Committed Political Suicide At A Trump Rally (VIDEO)   \n",
       "2                                            Kerry to go to Paris in gesture of sympathy   \n",
       "3   Bernie supporters on Twitter erupt in anger against the DNC: 'We tried to warn you!'   \n",
       "4                                       The Battle of New York: Why This Primary Matters   \n",
       "\n",
       "                                                                                                                                                                                                                                                                                      text  \\\n",
       "0  Daniel Greenfield, a Shillman Journalism Fellow at the Freedom Center, is a New York writer focusing on radical Islam. \\nIn the final stretch of the election, Hillary Rodham Clinton has gone to war with the FBI. \\nThe word “unprecedented” has been thrown around so often this ...   \n",
       "1  Google Pinterest Digg Linkedin Reddit Stumbleupon Print Delicious Pocket Tumblr \\nThere are two fundamental truths in this world: Paul Ryan desperately wants to be president. And Paul Ryan will never be president. Today proved it. \\nIn a particularly staggering example of pol...   \n",
       "2  U.S. Secretary of State John F. Kerry said Monday that he will stop in Paris later this week, amid criticism that no top American officials attended Sunday’s unity march against terrorism.\\n\\nKerry said he expects to arrive in Paris Thursday evening, as he heads home after a ...   \n",
       "3  — Kaydee King (@KaydeeKing) November 9, 2016 The lesson from tonight's Dem losses: Time for Democrats to start listening to the voters. Stop running the same establishment candidates. \\n— People For Bernie (@People4Bernie) November 9, 2016 If Dems didn't want a tight race the...   \n",
       "4  It's primary day in New York and front-runners Hillary Clinton and Donald Trump are leading in the polls.\\n\\nTrump is now vowing to win enough delegates to clinch the Republican nomination and prevent a contested convention. But Sens.Ted Cruz, R-Texas, Bernie Sanders, D-Vt., ...   \n",
       "\n",
       "  label  \n",
       "0  FAKE  \n",
       "1  FAKE  \n",
       "2  REAL  \n",
       "3  FAKE  \n",
       "4  REAL  "
      ]
     },
     "execution_count": 232,
     "metadata": {},
     "output_type": "execute_result"
    }
   ],
   "source": [
    "news_copy=news.copy()\n",
    "news_copy.head()"
   ]
  },
  {
   "cell_type": "markdown",
   "metadata": {},
   "source": [
    "We'll start by cleaning the data using regex and getting it read to use VADER"
   ]
  },
  {
   "cell_type": "code",
   "execution_count": 233,
   "metadata": {},
   "outputs": [
    {
     "data": {
      "text/html": [
       "<div>\n",
       "<style scoped>\n",
       "    .dataframe tbody tr th:only-of-type {\n",
       "        vertical-align: middle;\n",
       "    }\n",
       "\n",
       "    .dataframe tbody tr th {\n",
       "        vertical-align: top;\n",
       "    }\n",
       "\n",
       "    .dataframe thead th {\n",
       "        text-align: right;\n",
       "    }\n",
       "</style>\n",
       "<table border=\"1\" class=\"dataframe\">\n",
       "  <thead>\n",
       "    <tr style=\"text-align: right;\">\n",
       "      <th></th>\n",
       "      <th>Unnamed: 0</th>\n",
       "      <th>title</th>\n",
       "      <th>text</th>\n",
       "      <th>label</th>\n",
       "    </tr>\n",
       "  </thead>\n",
       "  <tbody>\n",
       "    <tr>\n",
       "      <th>0</th>\n",
       "      <td>8476</td>\n",
       "      <td>you can smell hillary’s fear</td>\n",
       "      <td>daniel greenfield, a shillman journalism fellow at the freedom center, is a new york writer focusing on radical islam. \\nin the final stretch of the election, hillary rodham clinton has gone to war with the fbi. \\nthe word “unprecedented” has been thrown around so often this ...</td>\n",
       "      <td>FAKE</td>\n",
       "    </tr>\n",
       "    <tr>\n",
       "      <th>1</th>\n",
       "      <td>10294</td>\n",
       "      <td>watch the exact moment paul ryan committed political suicide at a trump rally (video)</td>\n",
       "      <td>google pinterest digg linkedin reddit stumbleupon print delicious pocket tumblr \\nthere are two fundamental truths in this world: paul ryan desperately wants to be president. and paul ryan will never be president. today proved it. \\nin a particularly staggering example of pol...</td>\n",
       "      <td>FAKE</td>\n",
       "    </tr>\n",
       "    <tr>\n",
       "      <th>2</th>\n",
       "      <td>3608</td>\n",
       "      <td>kerry to go to paris in gesture of sympathy</td>\n",
       "      <td>u.s. secretary of state john f. kerry said monday that he will stop in paris later this week, amid criticism that no top american officials attended sunday’s unity march against terrorism.\\n\\nkerry said he expects to arrive in paris thursday evening, as he heads home after a ...</td>\n",
       "      <td>REAL</td>\n",
       "    </tr>\n",
       "    <tr>\n",
       "      <th>3</th>\n",
       "      <td>10142</td>\n",
       "      <td>bernie supporters on twitter erupt in anger against the dnc: 'we tried to warn you!'</td>\n",
       "      <td>— kaydee king (@kaydeeking) november 9, 2016 the lesson from tonight's dem losses: time for democrats to start listening to the voters. stop running the same establishment candidates. \\n— people for bernie (@people4bernie) november 9, 2016 if dems didn't want a tight race the...</td>\n",
       "      <td>FAKE</td>\n",
       "    </tr>\n",
       "    <tr>\n",
       "      <th>4</th>\n",
       "      <td>875</td>\n",
       "      <td>the battle of new york: why this primary matters</td>\n",
       "      <td>it's primary day in new york and front-runners hillary clinton and donald trump are leading in the polls.\\n\\ntrump is now vowing to win enough delegates to clinch the republican nomination and prevent a contested convention. but sens.ted cruz, r-texas, bernie sanders, d-vt., ...</td>\n",
       "      <td>REAL</td>\n",
       "    </tr>\n",
       "  </tbody>\n",
       "</table>\n",
       "</div>"
      ],
      "text/plain": [
       "   Unnamed: 0  \\\n",
       "0        8476   \n",
       "1       10294   \n",
       "2        3608   \n",
       "3       10142   \n",
       "4         875   \n",
       "\n",
       "                                                                                   title  \\\n",
       "0                                                           you can smell hillary’s fear   \n",
       "1  watch the exact moment paul ryan committed political suicide at a trump rally (video)   \n",
       "2                                            kerry to go to paris in gesture of sympathy   \n",
       "3   bernie supporters on twitter erupt in anger against the dnc: 'we tried to warn you!'   \n",
       "4                                       the battle of new york: why this primary matters   \n",
       "\n",
       "                                                                                                                                                                                                                                                                                      text  \\\n",
       "0  daniel greenfield, a shillman journalism fellow at the freedom center, is a new york writer focusing on radical islam. \\nin the final stretch of the election, hillary rodham clinton has gone to war with the fbi. \\nthe word “unprecedented” has been thrown around so often this ...   \n",
       "1  google pinterest digg linkedin reddit stumbleupon print delicious pocket tumblr \\nthere are two fundamental truths in this world: paul ryan desperately wants to be president. and paul ryan will never be president. today proved it. \\nin a particularly staggering example of pol...   \n",
       "2  u.s. secretary of state john f. kerry said monday that he will stop in paris later this week, amid criticism that no top american officials attended sunday’s unity march against terrorism.\\n\\nkerry said he expects to arrive in paris thursday evening, as he heads home after a ...   \n",
       "3  — kaydee king (@kaydeeking) november 9, 2016 the lesson from tonight's dem losses: time for democrats to start listening to the voters. stop running the same establishment candidates. \\n— people for bernie (@people4bernie) november 9, 2016 if dems didn't want a tight race the...   \n",
       "4  it's primary day in new york and front-runners hillary clinton and donald trump are leading in the polls.\\n\\ntrump is now vowing to win enough delegates to clinch the republican nomination and prevent a contested convention. but sens.ted cruz, r-texas, bernie sanders, d-vt., ...   \n",
       "\n",
       "  label  \n",
       "0  FAKE  \n",
       "1  FAKE  \n",
       "2  REAL  \n",
       "3  FAKE  \n",
       "4  REAL  "
      ]
     },
     "execution_count": 233,
     "metadata": {},
     "output_type": "execute_result"
    }
   ],
   "source": [
    "news_copy[\"title\"]=news_copy[\"title\"].str.lower()\n",
    "news_copy[\"text\"]=news_copy[\"text\"].str.lower()\n",
    "news_copy.head()"
   ]
  },
  {
   "cell_type": "code",
   "execution_count": 234,
   "metadata": {},
   "outputs": [
    {
     "data": {
      "text/html": [
       "<div>\n",
       "<style scoped>\n",
       "    .dataframe tbody tr th:only-of-type {\n",
       "        vertical-align: middle;\n",
       "    }\n",
       "\n",
       "    .dataframe tbody tr th {\n",
       "        vertical-align: top;\n",
       "    }\n",
       "\n",
       "    .dataframe thead th {\n",
       "        text-align: right;\n",
       "    }\n",
       "</style>\n",
       "<table border=\"1\" class=\"dataframe\">\n",
       "  <thead>\n",
       "    <tr style=\"text-align: right;\">\n",
       "      <th></th>\n",
       "      <th>Unnamed: 0</th>\n",
       "      <th>title</th>\n",
       "      <th>text</th>\n",
       "      <th>label</th>\n",
       "      <th>text_no_punc</th>\n",
       "      <th>title_no_punc</th>\n",
       "    </tr>\n",
       "  </thead>\n",
       "  <tbody>\n",
       "    <tr>\n",
       "      <th>0</th>\n",
       "      <td>8476</td>\n",
       "      <td>you can smell hillary’s fear</td>\n",
       "      <td>daniel greenfield, a shillman journalism fellow at the freedom center, is a new york writer focusing on radical islam. \\nin the final stretch of the election, hillary rodham clinton has gone to war with the fbi. \\nthe word “unprecedented” has been thrown around so often this ...</td>\n",
       "      <td>FAKE</td>\n",
       "      <td>daniel greenfield  a shillman journalism fellow at the freedom center  is a new york writer focusing on radical islam  \\nin the final stretch of the election  hillary rodham clinton has gone to war with the fbi  \\nthe word  unprecedented  has been thrown around so often this ...</td>\n",
       "      <td>you can smell hillary s fear</td>\n",
       "    </tr>\n",
       "    <tr>\n",
       "      <th>1</th>\n",
       "      <td>10294</td>\n",
       "      <td>watch the exact moment paul ryan committed political suicide at a trump rally (video)</td>\n",
       "      <td>google pinterest digg linkedin reddit stumbleupon print delicious pocket tumblr \\nthere are two fundamental truths in this world: paul ryan desperately wants to be president. and paul ryan will never be president. today proved it. \\nin a particularly staggering example of pol...</td>\n",
       "      <td>FAKE</td>\n",
       "      <td>google pinterest digg linkedin reddit stumbleupon print delicious pocket tumblr \\nthere are two fundamental truths in this world  paul ryan desperately wants to be president  and paul ryan will never be president  today proved it  \\nin a particularly staggering example of pol...</td>\n",
       "      <td>watch the exact moment paul ryan committed political suicide at a trump rally  video</td>\n",
       "    </tr>\n",
       "    <tr>\n",
       "      <th>2</th>\n",
       "      <td>3608</td>\n",
       "      <td>kerry to go to paris in gesture of sympathy</td>\n",
       "      <td>u.s. secretary of state john f. kerry said monday that he will stop in paris later this week, amid criticism that no top american officials attended sunday’s unity march against terrorism.\\n\\nkerry said he expects to arrive in paris thursday evening, as he heads home after a ...</td>\n",
       "      <td>REAL</td>\n",
       "      <td>u s  secretary of state john f  kerry said monday that he will stop in paris later this week  amid criticism that no top american officials attended sunday s unity march against terrorism \\n\\nkerry said he expects to arrive in paris thursday evening  as he heads home after a ...</td>\n",
       "      <td>kerry to go to paris in gesture of sympathy</td>\n",
       "    </tr>\n",
       "    <tr>\n",
       "      <th>3</th>\n",
       "      <td>10142</td>\n",
       "      <td>bernie supporters on twitter erupt in anger against the dnc: 'we tried to warn you!'</td>\n",
       "      <td>— kaydee king (@kaydeeking) november 9, 2016 the lesson from tonight's dem losses: time for democrats to start listening to the voters. stop running the same establishment candidates. \\n— people for bernie (@people4bernie) november 9, 2016 if dems didn't want a tight race the...</td>\n",
       "      <td>FAKE</td>\n",
       "      <td>kaydee king   kaydeeking  november 9  2016 the lesson from tonight s dem losses  time for democrats to start listening to the voters  stop running the same establishment candidates  \\n  people for bernie   people4bernie  november 9  2016 if dems didn t want a tight race the...</td>\n",
       "      <td>bernie supporters on twitter erupt in anger against the dnc   we tried to warn you</td>\n",
       "    </tr>\n",
       "    <tr>\n",
       "      <th>4</th>\n",
       "      <td>875</td>\n",
       "      <td>the battle of new york: why this primary matters</td>\n",
       "      <td>it's primary day in new york and front-runners hillary clinton and donald trump are leading in the polls.\\n\\ntrump is now vowing to win enough delegates to clinch the republican nomination and prevent a contested convention. but sens.ted cruz, r-texas, bernie sanders, d-vt., ...</td>\n",
       "      <td>REAL</td>\n",
       "      <td>it s primary day in new york and front runners hillary clinton and donald trump are leading in the polls \\n\\ntrump is now vowing to win enough delegates to clinch the republican nomination and prevent a contested convention  but sens ted cruz  r texas  bernie sanders  d vt   ...</td>\n",
       "      <td>the battle of new york  why this primary matters</td>\n",
       "    </tr>\n",
       "  </tbody>\n",
       "</table>\n",
       "</div>"
      ],
      "text/plain": [
       "   Unnamed: 0  \\\n",
       "0        8476   \n",
       "1       10294   \n",
       "2        3608   \n",
       "3       10142   \n",
       "4         875   \n",
       "\n",
       "                                                                                   title  \\\n",
       "0                                                           you can smell hillary’s fear   \n",
       "1  watch the exact moment paul ryan committed political suicide at a trump rally (video)   \n",
       "2                                            kerry to go to paris in gesture of sympathy   \n",
       "3   bernie supporters on twitter erupt in anger against the dnc: 'we tried to warn you!'   \n",
       "4                                       the battle of new york: why this primary matters   \n",
       "\n",
       "                                                                                                                                                                                                                                                                                      text  \\\n",
       "0  daniel greenfield, a shillman journalism fellow at the freedom center, is a new york writer focusing on radical islam. \\nin the final stretch of the election, hillary rodham clinton has gone to war with the fbi. \\nthe word “unprecedented” has been thrown around so often this ...   \n",
       "1  google pinterest digg linkedin reddit stumbleupon print delicious pocket tumblr \\nthere are two fundamental truths in this world: paul ryan desperately wants to be president. and paul ryan will never be president. today proved it. \\nin a particularly staggering example of pol...   \n",
       "2  u.s. secretary of state john f. kerry said monday that he will stop in paris later this week, amid criticism that no top american officials attended sunday’s unity march against terrorism.\\n\\nkerry said he expects to arrive in paris thursday evening, as he heads home after a ...   \n",
       "3  — kaydee king (@kaydeeking) november 9, 2016 the lesson from tonight's dem losses: time for democrats to start listening to the voters. stop running the same establishment candidates. \\n— people for bernie (@people4bernie) november 9, 2016 if dems didn't want a tight race the...   \n",
       "4  it's primary day in new york and front-runners hillary clinton and donald trump are leading in the polls.\\n\\ntrump is now vowing to win enough delegates to clinch the republican nomination and prevent a contested convention. but sens.ted cruz, r-texas, bernie sanders, d-vt., ...   \n",
       "\n",
       "  label  \\\n",
       "0  FAKE   \n",
       "1  FAKE   \n",
       "2  REAL   \n",
       "3  FAKE   \n",
       "4  REAL   \n",
       "\n",
       "                                                                                                                                                                                                                                                                              text_no_punc  \\\n",
       "0  daniel greenfield  a shillman journalism fellow at the freedom center  is a new york writer focusing on radical islam  \\nin the final stretch of the election  hillary rodham clinton has gone to war with the fbi  \\nthe word  unprecedented  has been thrown around so often this ...   \n",
       "1  google pinterest digg linkedin reddit stumbleupon print delicious pocket tumblr \\nthere are two fundamental truths in this world  paul ryan desperately wants to be president  and paul ryan will never be president  today proved it  \\nin a particularly staggering example of pol...   \n",
       "2  u s  secretary of state john f  kerry said monday that he will stop in paris later this week  amid criticism that no top american officials attended sunday s unity march against terrorism \\n\\nkerry said he expects to arrive in paris thursday evening  as he heads home after a ...   \n",
       "3    kaydee king   kaydeeking  november 9  2016 the lesson from tonight s dem losses  time for democrats to start listening to the voters  stop running the same establishment candidates  \\n  people for bernie   people4bernie  november 9  2016 if dems didn t want a tight race the...   \n",
       "4  it s primary day in new york and front runners hillary clinton and donald trump are leading in the polls \\n\\ntrump is now vowing to win enough delegates to clinch the republican nomination and prevent a contested convention  but sens ted cruz  r texas  bernie sanders  d vt   ...   \n",
       "\n",
       "                                                                           title_no_punc  \n",
       "0                                                           you can smell hillary s fear  \n",
       "1  watch the exact moment paul ryan committed political suicide at a trump rally  video   \n",
       "2                                            kerry to go to paris in gesture of sympathy  \n",
       "3   bernie supporters on twitter erupt in anger against the dnc   we tried to warn you    \n",
       "4                                       the battle of new york  why this primary matters  "
      ]
     },
     "execution_count": 234,
     "metadata": {},
     "output_type": "execute_result"
    }
   ],
   "source": [
    "no_punc=\"[^\\w\\s]\"\n",
    "news_copy[\"text_no_punc\"]=news_copy[\"text\"].str.replace(no_punc,\" \")\n",
    "news_copy[\"title_no_punc\"]=news_copy[\"title\"].str.replace(no_punc,\" \")\n",
    "news_copy.head()"
   ]
  },
  {
   "cell_type": "code",
   "execution_count": 235,
   "metadata": {},
   "outputs": [
    {
     "data": {
      "text/html": [
       "<div>\n",
       "<style scoped>\n",
       "    .dataframe tbody tr th:only-of-type {\n",
       "        vertical-align: middle;\n",
       "    }\n",
       "\n",
       "    .dataframe tbody tr th {\n",
       "        vertical-align: top;\n",
       "    }\n",
       "\n",
       "    .dataframe thead th {\n",
       "        text-align: right;\n",
       "    }\n",
       "</style>\n",
       "<table border=\"1\" class=\"dataframe\">\n",
       "  <thead>\n",
       "    <tr style=\"text-align: right;\">\n",
       "      <th></th>\n",
       "      <th>Unnamed: 0</th>\n",
       "      <th>title</th>\n",
       "      <th>text</th>\n",
       "      <th>label</th>\n",
       "      <th>text_no_punc</th>\n",
       "      <th>title_no_punc</th>\n",
       "      <th>text_no_n</th>\n",
       "      <th>title_no_n</th>\n",
       "    </tr>\n",
       "  </thead>\n",
       "  <tbody>\n",
       "    <tr>\n",
       "      <th>0</th>\n",
       "      <td>8476</td>\n",
       "      <td>you can smell hillary’s fear</td>\n",
       "      <td>daniel greenfield, a shillman journalism fellow at the freedom center, is a new york writer focusing on radical islam. \\nin the final stretch of the election, hillary rodham clinton has gone to war with the fbi. \\nthe word “unprecedented” has been thrown around so often this ...</td>\n",
       "      <td>FAKE</td>\n",
       "      <td>daniel greenfield  a shillman journalism fellow at the freedom center  is a new york writer focusing on radical islam  \\nin the final stretch of the election  hillary rodham clinton has gone to war with the fbi  \\nthe word  unprecedented  has been thrown around so often this ...</td>\n",
       "      <td>you can smell hillary s fear</td>\n",
       "      <td>daniel greenfield  a shillman journalism fellow at the freedom center  is a new york writer focusing on radical islam   in the final stretch of the election  hillary rodham clinton has gone to war with the fbi   the word  unprecedented  has been thrown around so often this el...</td>\n",
       "      <td>you can smell hillary s fear</td>\n",
       "    </tr>\n",
       "    <tr>\n",
       "      <th>1</th>\n",
       "      <td>10294</td>\n",
       "      <td>watch the exact moment paul ryan committed political suicide at a trump rally (video)</td>\n",
       "      <td>google pinterest digg linkedin reddit stumbleupon print delicious pocket tumblr \\nthere are two fundamental truths in this world: paul ryan desperately wants to be president. and paul ryan will never be president. today proved it. \\nin a particularly staggering example of pol...</td>\n",
       "      <td>FAKE</td>\n",
       "      <td>google pinterest digg linkedin reddit stumbleupon print delicious pocket tumblr \\nthere are two fundamental truths in this world  paul ryan desperately wants to be president  and paul ryan will never be president  today proved it  \\nin a particularly staggering example of pol...</td>\n",
       "      <td>watch the exact moment paul ryan committed political suicide at a trump rally  video</td>\n",
       "      <td>google pinterest digg linkedin reddit stumbleupon print delicious pocket tumblr  there are two fundamental truths in this world  paul ryan desperately wants to be president  and paul ryan will never be president  today proved it   in a particularly staggering example of polit...</td>\n",
       "      <td>watch the exact moment paul ryan committed political suicide at a trump rally  video</td>\n",
       "    </tr>\n",
       "    <tr>\n",
       "      <th>2</th>\n",
       "      <td>3608</td>\n",
       "      <td>kerry to go to paris in gesture of sympathy</td>\n",
       "      <td>u.s. secretary of state john f. kerry said monday that he will stop in paris later this week, amid criticism that no top american officials attended sunday’s unity march against terrorism.\\n\\nkerry said he expects to arrive in paris thursday evening, as he heads home after a ...</td>\n",
       "      <td>REAL</td>\n",
       "      <td>u s  secretary of state john f  kerry said monday that he will stop in paris later this week  amid criticism that no top american officials attended sunday s unity march against terrorism \\n\\nkerry said he expects to arrive in paris thursday evening  as he heads home after a ...</td>\n",
       "      <td>kerry to go to paris in gesture of sympathy</td>\n",
       "      <td>u s  secretary of state john f  kerry said monday that he will stop in paris later this week  amid criticism that no top american officials attended sunday s unity march against terrorism   kerry said he expects to arrive in paris thursday evening  as he heads home after a we...</td>\n",
       "      <td>kerry to go to paris in gesture of sympathy</td>\n",
       "    </tr>\n",
       "    <tr>\n",
       "      <th>3</th>\n",
       "      <td>10142</td>\n",
       "      <td>bernie supporters on twitter erupt in anger against the dnc: 'we tried to warn you!'</td>\n",
       "      <td>— kaydee king (@kaydeeking) november 9, 2016 the lesson from tonight's dem losses: time for democrats to start listening to the voters. stop running the same establishment candidates. \\n— people for bernie (@people4bernie) november 9, 2016 if dems didn't want a tight race the...</td>\n",
       "      <td>FAKE</td>\n",
       "      <td>kaydee king   kaydeeking  november 9  2016 the lesson from tonight s dem losses  time for democrats to start listening to the voters  stop running the same establishment candidates  \\n  people for bernie   people4bernie  november 9  2016 if dems didn t want a tight race the...</td>\n",
       "      <td>bernie supporters on twitter erupt in anger against the dnc   we tried to warn you</td>\n",
       "      <td>kaydee king   kaydeeking  november 9  2016 the lesson from tonight s dem losses  time for democrats to start listening to the voters  stop running the same establishment candidates     people for bernie   people4bernie  november 9  2016 if dems didn t want a tight race they...</td>\n",
       "      <td>bernie supporters on twitter erupt in anger against the dnc   we tried to warn you</td>\n",
       "    </tr>\n",
       "    <tr>\n",
       "      <th>4</th>\n",
       "      <td>875</td>\n",
       "      <td>the battle of new york: why this primary matters</td>\n",
       "      <td>it's primary day in new york and front-runners hillary clinton and donald trump are leading in the polls.\\n\\ntrump is now vowing to win enough delegates to clinch the republican nomination and prevent a contested convention. but sens.ted cruz, r-texas, bernie sanders, d-vt., ...</td>\n",
       "      <td>REAL</td>\n",
       "      <td>it s primary day in new york and front runners hillary clinton and donald trump are leading in the polls \\n\\ntrump is now vowing to win enough delegates to clinch the republican nomination and prevent a contested convention  but sens ted cruz  r texas  bernie sanders  d vt   ...</td>\n",
       "      <td>the battle of new york  why this primary matters</td>\n",
       "      <td>it s primary day in new york and front runners hillary clinton and donald trump are leading in the polls   trump is now vowing to win enough delegates to clinch the republican nomination and prevent a contested convention  but sens ted cruz  r texas  bernie sanders  d vt   an...</td>\n",
       "      <td>the battle of new york  why this primary matters</td>\n",
       "    </tr>\n",
       "  </tbody>\n",
       "</table>\n",
       "</div>"
      ],
      "text/plain": [
       "   Unnamed: 0  \\\n",
       "0        8476   \n",
       "1       10294   \n",
       "2        3608   \n",
       "3       10142   \n",
       "4         875   \n",
       "\n",
       "                                                                                   title  \\\n",
       "0                                                           you can smell hillary’s fear   \n",
       "1  watch the exact moment paul ryan committed political suicide at a trump rally (video)   \n",
       "2                                            kerry to go to paris in gesture of sympathy   \n",
       "3   bernie supporters on twitter erupt in anger against the dnc: 'we tried to warn you!'   \n",
       "4                                       the battle of new york: why this primary matters   \n",
       "\n",
       "                                                                                                                                                                                                                                                                                      text  \\\n",
       "0  daniel greenfield, a shillman journalism fellow at the freedom center, is a new york writer focusing on radical islam. \\nin the final stretch of the election, hillary rodham clinton has gone to war with the fbi. \\nthe word “unprecedented” has been thrown around so often this ...   \n",
       "1  google pinterest digg linkedin reddit stumbleupon print delicious pocket tumblr \\nthere are two fundamental truths in this world: paul ryan desperately wants to be president. and paul ryan will never be president. today proved it. \\nin a particularly staggering example of pol...   \n",
       "2  u.s. secretary of state john f. kerry said monday that he will stop in paris later this week, amid criticism that no top american officials attended sunday’s unity march against terrorism.\\n\\nkerry said he expects to arrive in paris thursday evening, as he heads home after a ...   \n",
       "3  — kaydee king (@kaydeeking) november 9, 2016 the lesson from tonight's dem losses: time for democrats to start listening to the voters. stop running the same establishment candidates. \\n— people for bernie (@people4bernie) november 9, 2016 if dems didn't want a tight race the...   \n",
       "4  it's primary day in new york and front-runners hillary clinton and donald trump are leading in the polls.\\n\\ntrump is now vowing to win enough delegates to clinch the republican nomination and prevent a contested convention. but sens.ted cruz, r-texas, bernie sanders, d-vt., ...   \n",
       "\n",
       "  label  \\\n",
       "0  FAKE   \n",
       "1  FAKE   \n",
       "2  REAL   \n",
       "3  FAKE   \n",
       "4  REAL   \n",
       "\n",
       "                                                                                                                                                                                                                                                                              text_no_punc  \\\n",
       "0  daniel greenfield  a shillman journalism fellow at the freedom center  is a new york writer focusing on radical islam  \\nin the final stretch of the election  hillary rodham clinton has gone to war with the fbi  \\nthe word  unprecedented  has been thrown around so often this ...   \n",
       "1  google pinterest digg linkedin reddit stumbleupon print delicious pocket tumblr \\nthere are two fundamental truths in this world  paul ryan desperately wants to be president  and paul ryan will never be president  today proved it  \\nin a particularly staggering example of pol...   \n",
       "2  u s  secretary of state john f  kerry said monday that he will stop in paris later this week  amid criticism that no top american officials attended sunday s unity march against terrorism \\n\\nkerry said he expects to arrive in paris thursday evening  as he heads home after a ...   \n",
       "3    kaydee king   kaydeeking  november 9  2016 the lesson from tonight s dem losses  time for democrats to start listening to the voters  stop running the same establishment candidates  \\n  people for bernie   people4bernie  november 9  2016 if dems didn t want a tight race the...   \n",
       "4  it s primary day in new york and front runners hillary clinton and donald trump are leading in the polls \\n\\ntrump is now vowing to win enough delegates to clinch the republican nomination and prevent a contested convention  but sens ted cruz  r texas  bernie sanders  d vt   ...   \n",
       "\n",
       "                                                                           title_no_punc  \\\n",
       "0                                                           you can smell hillary s fear   \n",
       "1  watch the exact moment paul ryan committed political suicide at a trump rally  video    \n",
       "2                                            kerry to go to paris in gesture of sympathy   \n",
       "3   bernie supporters on twitter erupt in anger against the dnc   we tried to warn you     \n",
       "4                                       the battle of new york  why this primary matters   \n",
       "\n",
       "                                                                                                                                                                                                                                                                                 text_no_n  \\\n",
       "0  daniel greenfield  a shillman journalism fellow at the freedom center  is a new york writer focusing on radical islam   in the final stretch of the election  hillary rodham clinton has gone to war with the fbi   the word  unprecedented  has been thrown around so often this el...   \n",
       "1  google pinterest digg linkedin reddit stumbleupon print delicious pocket tumblr  there are two fundamental truths in this world  paul ryan desperately wants to be president  and paul ryan will never be president  today proved it   in a particularly staggering example of polit...   \n",
       "2  u s  secretary of state john f  kerry said monday that he will stop in paris later this week  amid criticism that no top american officials attended sunday s unity march against terrorism   kerry said he expects to arrive in paris thursday evening  as he heads home after a we...   \n",
       "3    kaydee king   kaydeeking  november 9  2016 the lesson from tonight s dem losses  time for democrats to start listening to the voters  stop running the same establishment candidates     people for bernie   people4bernie  november 9  2016 if dems didn t want a tight race they...   \n",
       "4  it s primary day in new york and front runners hillary clinton and donald trump are leading in the polls   trump is now vowing to win enough delegates to clinch the republican nomination and prevent a contested convention  but sens ted cruz  r texas  bernie sanders  d vt   an...   \n",
       "\n",
       "                                                                              title_no_n  \n",
       "0                                                           you can smell hillary s fear  \n",
       "1  watch the exact moment paul ryan committed political suicide at a trump rally  video   \n",
       "2                                            kerry to go to paris in gesture of sympathy  \n",
       "3   bernie supporters on twitter erupt in anger against the dnc   we tried to warn you    \n",
       "4                                       the battle of new york  why this primary matters  "
      ]
     },
     "execution_count": 235,
     "metadata": {},
     "output_type": "execute_result"
    }
   ],
   "source": [
    "no_n='\\n'\n",
    "news_copy[\"text_no_n\"]=news_copy[\"text_no_punc\"].str.replace(no_n,\" \")\n",
    "news_copy[\"title_no_n\"]=news_copy[\"title_no_punc\"].str.replace(no_n,\" \")\n",
    "news_copy.head()"
   ]
  },
  {
   "cell_type": "code",
   "execution_count": 236,
   "metadata": {},
   "outputs": [
    {
     "data": {
      "text/html": [
       "<div>\n",
       "<style scoped>\n",
       "    .dataframe tbody tr th:only-of-type {\n",
       "        vertical-align: middle;\n",
       "    }\n",
       "\n",
       "    .dataframe tbody tr th {\n",
       "        vertical-align: top;\n",
       "    }\n",
       "\n",
       "    .dataframe thead th {\n",
       "        text-align: right;\n",
       "    }\n",
       "</style>\n",
       "<table border=\"1\" class=\"dataframe\">\n",
       "  <thead>\n",
       "    <tr style=\"text-align: right;\">\n",
       "      <th></th>\n",
       "      <th>title_no_n</th>\n",
       "      <th>text_no_n</th>\n",
       "      <th>label</th>\n",
       "    </tr>\n",
       "    <tr>\n",
       "      <th>Unnamed: 0</th>\n",
       "      <th></th>\n",
       "      <th></th>\n",
       "      <th></th>\n",
       "    </tr>\n",
       "  </thead>\n",
       "  <tbody>\n",
       "    <tr>\n",
       "      <th>8476</th>\n",
       "      <td>you can smell hillary s fear</td>\n",
       "      <td>daniel greenfield  a shillman journalism fellow at the freedom center  is a new york writer focusing on radical islam   in the final stretch of the election  hillary rodham clinton has gone to war with the fbi   the word  unprecedented  has been thrown around so often this el...</td>\n",
       "      <td>FAKE</td>\n",
       "    </tr>\n",
       "    <tr>\n",
       "      <th>10294</th>\n",
       "      <td>watch the exact moment paul ryan committed political suicide at a trump rally  video</td>\n",
       "      <td>google pinterest digg linkedin reddit stumbleupon print delicious pocket tumblr  there are two fundamental truths in this world  paul ryan desperately wants to be president  and paul ryan will never be president  today proved it   in a particularly staggering example of polit...</td>\n",
       "      <td>FAKE</td>\n",
       "    </tr>\n",
       "    <tr>\n",
       "      <th>3608</th>\n",
       "      <td>kerry to go to paris in gesture of sympathy</td>\n",
       "      <td>u s  secretary of state john f  kerry said monday that he will stop in paris later this week  amid criticism that no top american officials attended sunday s unity march against terrorism   kerry said he expects to arrive in paris thursday evening  as he heads home after a we...</td>\n",
       "      <td>REAL</td>\n",
       "    </tr>\n",
       "    <tr>\n",
       "      <th>10142</th>\n",
       "      <td>bernie supporters on twitter erupt in anger against the dnc   we tried to warn you</td>\n",
       "      <td>kaydee king   kaydeeking  november 9  2016 the lesson from tonight s dem losses  time for democrats to start listening to the voters  stop running the same establishment candidates     people for bernie   people4bernie  november 9  2016 if dems didn t want a tight race they...</td>\n",
       "      <td>FAKE</td>\n",
       "    </tr>\n",
       "    <tr>\n",
       "      <th>875</th>\n",
       "      <td>the battle of new york  why this primary matters</td>\n",
       "      <td>it s primary day in new york and front runners hillary clinton and donald trump are leading in the polls   trump is now vowing to win enough delegates to clinch the republican nomination and prevent a contested convention  but sens ted cruz  r texas  bernie sanders  d vt   an...</td>\n",
       "      <td>REAL</td>\n",
       "    </tr>\n",
       "  </tbody>\n",
       "</table>\n",
       "</div>"
      ],
      "text/plain": [
       "                                                                                       title_no_n  \\\n",
       "Unnamed: 0                                                                                          \n",
       "8476                                                                 you can smell hillary s fear   \n",
       "10294       watch the exact moment paul ryan committed political suicide at a trump rally  video    \n",
       "3608                                                  kerry to go to paris in gesture of sympathy   \n",
       "10142        bernie supporters on twitter erupt in anger against the dnc   we tried to warn you     \n",
       "875                                              the battle of new york  why this primary matters   \n",
       "\n",
       "                                                                                                                                                                                                                                                                                          text_no_n  \\\n",
       "Unnamed: 0                                                                                                                                                                                                                                                                                            \n",
       "8476        daniel greenfield  a shillman journalism fellow at the freedom center  is a new york writer focusing on radical islam   in the final stretch of the election  hillary rodham clinton has gone to war with the fbi   the word  unprecedented  has been thrown around so often this el...   \n",
       "10294       google pinterest digg linkedin reddit stumbleupon print delicious pocket tumblr  there are two fundamental truths in this world  paul ryan desperately wants to be president  and paul ryan will never be president  today proved it   in a particularly staggering example of polit...   \n",
       "3608        u s  secretary of state john f  kerry said monday that he will stop in paris later this week  amid criticism that no top american officials attended sunday s unity march against terrorism   kerry said he expects to arrive in paris thursday evening  as he heads home after a we...   \n",
       "10142         kaydee king   kaydeeking  november 9  2016 the lesson from tonight s dem losses  time for democrats to start listening to the voters  stop running the same establishment candidates     people for bernie   people4bernie  november 9  2016 if dems didn t want a tight race they...   \n",
       "875         it s primary day in new york and front runners hillary clinton and donald trump are leading in the polls   trump is now vowing to win enough delegates to clinch the republican nomination and prevent a contested convention  but sens ted cruz  r texas  bernie sanders  d vt   an...   \n",
       "\n",
       "           label  \n",
       "Unnamed: 0        \n",
       "8476        FAKE  \n",
       "10294       FAKE  \n",
       "3608        REAL  \n",
       "10142       FAKE  \n",
       "875         REAL  "
      ]
     },
     "execution_count": 236,
     "metadata": {},
     "output_type": "execute_result"
    }
   ],
   "source": [
    "clean_news=news_copy[[\"Unnamed: 0\",\"title_no_n\",\"text_no_n\",\"label\"]].set_index(\"Unnamed: 0\")\n",
    "clean_news.head()"
   ]
  },
  {
   "cell_type": "markdown",
   "metadata": {},
   "source": [
    "Now that our data is clean, we'll put it into a tidy format that looks like this:\n",
    "\n",
    "<table border=\"1\" class=\"dataframe\">\n",
    "  <thead>\n",
    "    <tr style=\"text-align: right;\">\n",
    "      <th></th>\n",
    "      <th>num</th>\n",
    "      <th>word</th>\n",
    "    </tr>\n",
    "  </thead>\n",
    "  <tbody>\n",
    "    <tr>\n",
    "      <th>690171032150237184</th>\n",
    "      <td>0</td>\n",
    "      <td>bigop1</td>\n",
    "    </tr>\n",
    "    <tr>\n",
    "      <th>690171032150237184</th>\n",
    "      <td>1</td>\n",
    "      <td>realdonaldtrump</td>\n",
    "    </tr>\n",
    "    <tr>\n",
    "      <th>690171032150237184</th>\n",
    "      <td>2</td>\n",
    "      <td>sarahpalinusa</td>\n",
    "    </tr>\n",
    "    <tr>\n",
    "      <th>690171032150237184</th>\n",
    "      <td>3</td>\n",
    "      <td>https</td>\n",
    "    </tr>\n",
    "    <tr>\n",
    "      <th>690171032150237184</th>\n",
    "      <td>4</td>\n",
    "      <td>t</td>\n",
    "    </tr>\n",
    "  </tbody>\n",
    "</table>"
   ]
  },
  {
   "cell_type": "markdown",
   "metadata": {},
   "source": [
    "Also, since I don't want to kill my computer doing this, we'll take a sample of the whole dataset"
   ]
  },
  {
   "cell_type": "code",
   "execution_count": 237,
   "metadata": {},
   "outputs": [
    {
     "data": {
      "text/html": [
       "<div>\n",
       "<style scoped>\n",
       "    .dataframe tbody tr th:only-of-type {\n",
       "        vertical-align: middle;\n",
       "    }\n",
       "\n",
       "    .dataframe tbody tr th {\n",
       "        vertical-align: top;\n",
       "    }\n",
       "\n",
       "    .dataframe thead th {\n",
       "        text-align: right;\n",
       "    }\n",
       "</style>\n",
       "<table border=\"1\" class=\"dataframe\">\n",
       "  <thead>\n",
       "    <tr style=\"text-align: right;\">\n",
       "      <th></th>\n",
       "      <th>title_no_n</th>\n",
       "      <th>text_no_n</th>\n",
       "      <th>label</th>\n",
       "    </tr>\n",
       "    <tr>\n",
       "      <th>Unnamed: 0</th>\n",
       "      <th></th>\n",
       "      <th></th>\n",
       "      <th></th>\n",
       "    </tr>\n",
       "  </thead>\n",
       "  <tbody>\n",
       "    <tr>\n",
       "      <th>4430</th>\n",
       "      <td>in rare foreign trip  assad flies to moscow to meet with putin</td>\n",
       "      <td>syrian president bashar al assad ventured outside his beleaguered nation for the first time in more than four years wednesday to meet russia s vladimir putin in a surprise visit to kremlin patrons now backing syria s government with military might   the landmark trip is a pow...</td>\n",
       "      <td>REAL</td>\n",
       "    </tr>\n",
       "    <tr>\n",
       "      <th>1231</th>\n",
       "      <td>cruz  trump and rubio win in iowa  and now we know who the losers are  too</td>\n",
       "      <td>it is always interesting to watch democracy in action and iowa is ground zero   many political pundits and media analysts complain about the attention iowa receives from candidates and the media because it goes first  but it also is a state filled with people who are willing ...</td>\n",
       "      <td>REAL</td>\n",
       "    </tr>\n",
       "    <tr>\n",
       "      <th>8466</th>\n",
       "      <td>links 11 9 16  election day</td>\n",
       "      <td>by yves smith  be sure to vote today if you haven t already  even if you dislike the presidential choices  downticket races are important   and an overdue note  thanks so much to those of you who came out to meet me in dallas last week  we had a group of 30 35 attend  includi...</td>\n",
       "      <td>FAKE</td>\n",
       "    </tr>\n",
       "    <tr>\n",
       "      <th>433</th>\n",
       "      <td>a harsh blow to small businesses  opposing view</td>\n",
       "      <td>under new overtime rules  employees will be injured as well   the labor department s change to the overtime rule is a harsh blow to millions of small businesses and their employees  according to nfib research  approximately 44  of small businesses would be affected  the depar...</td>\n",
       "      <td>REAL</td>\n",
       "    </tr>\n",
       "    <tr>\n",
       "      <th>5311</th>\n",
       "      <td>black lives matter loses  america s respect for police surges</td>\n",
       "      <td>pinterest  in the war between police and black lives matter  the cop hating race baiters are losing   a new study shows a dramatic increase in respect for law enforcement among all americans  including blacks  who have been repeatedly told they were the victims of a racist  w...</td>\n",
       "      <td>FAKE</td>\n",
       "    </tr>\n",
       "  </tbody>\n",
       "</table>\n",
       "</div>"
      ],
      "text/plain": [
       "                                                                               title_no_n  \\\n",
       "Unnamed: 0                                                                                  \n",
       "4430                       in rare foreign trip  assad flies to moscow to meet with putin   \n",
       "1231        cruz  trump and rubio win in iowa  and now we know who the losers are  too      \n",
       "8466                                                          links 11 9 16  election day   \n",
       "433                                       a harsh blow to small businesses  opposing view   \n",
       "5311                        black lives matter loses  america s respect for police surges   \n",
       "\n",
       "                                                                                                                                                                                                                                                                                          text_no_n  \\\n",
       "Unnamed: 0                                                                                                                                                                                                                                                                                            \n",
       "4430        syrian president bashar al assad ventured outside his beleaguered nation for the first time in more than four years wednesday to meet russia s vladimir putin in a surprise visit to kremlin patrons now backing syria s government with military might   the landmark trip is a pow...   \n",
       "1231        it is always interesting to watch democracy in action and iowa is ground zero   many political pundits and media analysts complain about the attention iowa receives from candidates and the media because it goes first  but it also is a state filled with people who are willing ...   \n",
       "8466        by yves smith  be sure to vote today if you haven t already  even if you dislike the presidential choices  downticket races are important   and an overdue note  thanks so much to those of you who came out to meet me in dallas last week  we had a group of 30 35 attend  includi...   \n",
       "433         under new overtime rules  employees will be injured as well   the labor department s change to the overtime rule is a harsh blow to millions of small businesses and their employees  according to nfib research  approximately 44  of small businesses would be affected  the depar...   \n",
       "5311        pinterest  in the war between police and black lives matter  the cop hating race baiters are losing   a new study shows a dramatic increase in respect for law enforcement among all americans  including blacks  who have been repeatedly told they were the victims of a racist  w...   \n",
       "\n",
       "           label  \n",
       "Unnamed: 0        \n",
       "4430        REAL  \n",
       "1231        REAL  \n",
       "8466        FAKE  \n",
       "433         REAL  \n",
       "5311        FAKE  "
      ]
     },
     "execution_count": 237,
     "metadata": {},
     "output_type": "execute_result"
    }
   ],
   "source": [
    "news_test=clean_news.sample(n=250)\n",
    "news_test.head()"
   ]
  },
  {
   "cell_type": "code",
   "execution_count": 238,
   "metadata": {},
   "outputs": [
    {
     "data": {
      "text/html": [
       "<div>\n",
       "<style scoped>\n",
       "    .dataframe tbody tr th:only-of-type {\n",
       "        vertical-align: middle;\n",
       "    }\n",
       "\n",
       "    .dataframe tbody tr th {\n",
       "        vertical-align: top;\n",
       "    }\n",
       "\n",
       "    .dataframe thead th {\n",
       "        text-align: right;\n",
       "    }\n",
       "</style>\n",
       "<table border=\"1\" class=\"dataframe\">\n",
       "  <thead>\n",
       "    <tr style=\"text-align: right;\">\n",
       "      <th></th>\n",
       "      <th>num</th>\n",
       "      <th>word</th>\n",
       "    </tr>\n",
       "    <tr>\n",
       "      <th>Unnamed: 0</th>\n",
       "      <th></th>\n",
       "      <th></th>\n",
       "    </tr>\n",
       "  </thead>\n",
       "  <tbody>\n",
       "    <tr>\n",
       "      <th>4430</th>\n",
       "      <td>0</td>\n",
       "      <td>syrian</td>\n",
       "    </tr>\n",
       "    <tr>\n",
       "      <th>4430</th>\n",
       "      <td>1</td>\n",
       "      <td>president</td>\n",
       "    </tr>\n",
       "    <tr>\n",
       "      <th>4430</th>\n",
       "      <td>2</td>\n",
       "      <td>bashar</td>\n",
       "    </tr>\n",
       "    <tr>\n",
       "      <th>4430</th>\n",
       "      <td>3</td>\n",
       "      <td>al</td>\n",
       "    </tr>\n",
       "    <tr>\n",
       "      <th>4430</th>\n",
       "      <td>4</td>\n",
       "      <td>assad</td>\n",
       "    </tr>\n",
       "  </tbody>\n",
       "</table>\n",
       "</div>"
      ],
      "text/plain": [
       "            num       word\n",
       "Unnamed: 0                \n",
       "4430          0     syrian\n",
       "4430          1  president\n",
       "4430          2     bashar\n",
       "4430          3         al\n",
       "4430          4      assad"
      ]
     },
     "execution_count": 238,
     "metadata": {},
     "output_type": "execute_result"
    }
   ],
   "source": [
    "tidytext=news_test[\"text_no_n\"].str.split(expand=True).stack().reset_index(level=1).rename(columns={\"level_1\":\"num\",0:\"word\"})\n",
    "tidytext.head()"
   ]
  },
  {
   "cell_type": "markdown",
   "metadata": {},
   "source": [
    "VADER time"
   ]
  },
  {
   "cell_type": "code",
   "execution_count": 239,
   "metadata": {},
   "outputs": [
    {
     "name": "stdout",
     "output_type": "stream",
     "text": [
      "$:\t-1.5\t0.80623\t[-1, -1, -1, -1, -3, -1, -3, -1, -2, -1]\n",
      "%)\t-0.4\t1.0198\t[-1, 0, -1, 0, 0, -2, -1, 2, -1, 0]\n",
      "%-)\t-1.5\t1.43178\t[-2, 0, -2, -2, -1, 2, -2, -3, -2, -3]\n",
      "&-:\t-0.4\t1.42829\t[-3, -1, 0, 0, -1, -1, -1, 2, -1, 2]\n",
      "&:\t-0.7\t0.64031\t[0, -1, -1, -1, 1, -1, -1, -1, -1, -1]\n",
      "( '}{' )\t1.6\t0.66332\t[1, 2, 2, 1, 1, 2, 2, 1, 3, 1]\n",
      "(%\t-0.9\t0.9434\t[0, 0, 1, -1, -1, -1, -2, -2, -1, -2]\n",
      "('-:\t2.2\t1.16619\t[4, 1, 4, 3, 1, 2, 3, 1, 2, 1]\n",
      "(':\t2.3\t0.9\t[1, 3, 3, 2, 2, 4, 2, 3, 1, 2]\n",
      "((-:\t2.1\t0.53852\t[2, 2, 2, 1, 2, 3, 2, 2, 3, 2]\n",
      "\n"
     ]
    }
   ],
   "source": [
    "print(''.join(open(\"vader_lexicon.txt\").readlines()[:10]))"
   ]
  },
  {
   "cell_type": "code",
   "execution_count": 240,
   "metadata": {},
   "outputs": [
    {
     "data": {
      "text/html": [
       "<div>\n",
       "<style scoped>\n",
       "    .dataframe tbody tr th:only-of-type {\n",
       "        vertical-align: middle;\n",
       "    }\n",
       "\n",
       "    .dataframe tbody tr th {\n",
       "        vertical-align: top;\n",
       "    }\n",
       "\n",
       "    .dataframe thead th {\n",
       "        text-align: right;\n",
       "    }\n",
       "</style>\n",
       "<table border=\"1\" class=\"dataframe\">\n",
       "  <thead>\n",
       "    <tr style=\"text-align: right;\">\n",
       "      <th></th>\n",
       "      <th>polarity</th>\n",
       "    </tr>\n",
       "  </thead>\n",
       "  <tbody>\n",
       "    <tr>\n",
       "      <th>$:</th>\n",
       "      <td>-1.5</td>\n",
       "    </tr>\n",
       "    <tr>\n",
       "      <th>%)</th>\n",
       "      <td>-0.4</td>\n",
       "    </tr>\n",
       "    <tr>\n",
       "      <th>%-)</th>\n",
       "      <td>-1.5</td>\n",
       "    </tr>\n",
       "    <tr>\n",
       "      <th>&amp;-:</th>\n",
       "      <td>-0.4</td>\n",
       "    </tr>\n",
       "    <tr>\n",
       "      <th>&amp;:</th>\n",
       "      <td>-0.7</td>\n",
       "    </tr>\n",
       "    <tr>\n",
       "      <th>...</th>\n",
       "      <td>...</td>\n",
       "    </tr>\n",
       "    <tr>\n",
       "      <th>}:</th>\n",
       "      <td>-2.1</td>\n",
       "    </tr>\n",
       "    <tr>\n",
       "      <th>}:(</th>\n",
       "      <td>-2.0</td>\n",
       "    </tr>\n",
       "    <tr>\n",
       "      <th>}:)</th>\n",
       "      <td>0.4</td>\n",
       "    </tr>\n",
       "    <tr>\n",
       "      <th>}:-(</th>\n",
       "      <td>-2.1</td>\n",
       "    </tr>\n",
       "    <tr>\n",
       "      <th>}:-)</th>\n",
       "      <td>0.3</td>\n",
       "    </tr>\n",
       "  </tbody>\n",
       "</table>\n",
       "<p>7517 rows × 1 columns</p>\n",
       "</div>"
      ],
      "text/plain": [
       "      polarity\n",
       "$:        -1.5\n",
       "%)        -0.4\n",
       "%-)       -1.5\n",
       "&-:       -0.4\n",
       "&:        -0.7\n",
       "...        ...\n",
       "}:        -2.1\n",
       "}:(       -2.0\n",
       "}:)        0.4\n",
       "}:-(      -2.1\n",
       "}:-)       0.3\n",
       "\n",
       "[7517 rows x 1 columns]"
      ]
     },
     "execution_count": 240,
     "metadata": {},
     "output_type": "execute_result"
    }
   ],
   "source": [
    "vaderstring=\"vader_lexicon.txt\"\n",
    "\n",
    "sented=pd.read_csv(vaderstring,sep='\\t',header=None)\n",
    "sents=sented.set_index(0)[[1]]\n",
    "\n",
    "sents.index.name=None\n",
    "\n",
    "sent=sents.rename(columns={1:\"polarity\"})\n",
    "sent"
   ]
  },
  {
   "cell_type": "markdown",
   "metadata": {},
   "source": [
    "Next, let's ```merge``` our sentiments df onto our tidy formatted text and then group them so we get a polarity for each article."
   ]
  },
  {
   "cell_type": "code",
   "execution_count": 241,
   "metadata": {},
   "outputs": [
    {
     "data": {
      "text/html": [
       "<div>\n",
       "<style scoped>\n",
       "    .dataframe tbody tr th:only-of-type {\n",
       "        vertical-align: middle;\n",
       "    }\n",
       "\n",
       "    .dataframe tbody tr th {\n",
       "        vertical-align: top;\n",
       "    }\n",
       "\n",
       "    .dataframe thead th {\n",
       "        text-align: right;\n",
       "    }\n",
       "</style>\n",
       "<table border=\"1\" class=\"dataframe\">\n",
       "  <thead>\n",
       "    <tr style=\"text-align: right;\">\n",
       "      <th></th>\n",
       "      <th>title_no_n</th>\n",
       "      <th>text_no_n</th>\n",
       "      <th>label</th>\n",
       "      <th>polarity</th>\n",
       "    </tr>\n",
       "    <tr>\n",
       "      <th>Unnamed: 0</th>\n",
       "      <th></th>\n",
       "      <th></th>\n",
       "      <th></th>\n",
       "      <th></th>\n",
       "    </tr>\n",
       "  </thead>\n",
       "  <tbody>\n",
       "    <tr>\n",
       "      <th>4430</th>\n",
       "      <td>in rare foreign trip  assad flies to moscow to meet with putin</td>\n",
       "      <td>syrian president bashar al assad ventured outside his beleaguered nation for the first time in more than four years wednesday to meet russia s vladimir putin in a surprise visit to kremlin patrons now backing syria s government with military might   the landmark trip is a pow...</td>\n",
       "      <td>REAL</td>\n",
       "      <td>-25.1</td>\n",
       "    </tr>\n",
       "    <tr>\n",
       "      <th>1231</th>\n",
       "      <td>cruz  trump and rubio win in iowa  and now we know who the losers are  too</td>\n",
       "      <td>it is always interesting to watch democracy in action and iowa is ground zero   many political pundits and media analysts complain about the attention iowa receives from candidates and the media because it goes first  but it also is a state filled with people who are willing ...</td>\n",
       "      <td>REAL</td>\n",
       "      <td>26.3</td>\n",
       "    </tr>\n",
       "    <tr>\n",
       "      <th>8466</th>\n",
       "      <td>links 11 9 16  election day</td>\n",
       "      <td>by yves smith  be sure to vote today if you haven t already  even if you dislike the presidential choices  downticket races are important   and an overdue note  thanks so much to those of you who came out to meet me in dallas last week  we had a group of 30 35 attend  includi...</td>\n",
       "      <td>FAKE</td>\n",
       "      <td>24.6</td>\n",
       "    </tr>\n",
       "    <tr>\n",
       "      <th>433</th>\n",
       "      <td>a harsh blow to small businesses  opposing view</td>\n",
       "      <td>under new overtime rules  employees will be injured as well   the labor department s change to the overtime rule is a harsh blow to millions of small businesses and their employees  according to nfib research  approximately 44  of small businesses would be affected  the depar...</td>\n",
       "      <td>REAL</td>\n",
       "      <td>-0.5</td>\n",
       "    </tr>\n",
       "    <tr>\n",
       "      <th>5311</th>\n",
       "      <td>black lives matter loses  america s respect for police surges</td>\n",
       "      <td>pinterest  in the war between police and black lives matter  the cop hating race baiters are losing   a new study shows a dramatic increase in respect for law enforcement among all americans  including blacks  who have been repeatedly told they were the victims of a racist  w...</td>\n",
       "      <td>FAKE</td>\n",
       "      <td>19.9</td>\n",
       "    </tr>\n",
       "  </tbody>\n",
       "</table>\n",
       "</div>"
      ],
      "text/plain": [
       "                                                                               title_no_n  \\\n",
       "Unnamed: 0                                                                                  \n",
       "4430                       in rare foreign trip  assad flies to moscow to meet with putin   \n",
       "1231        cruz  trump and rubio win in iowa  and now we know who the losers are  too      \n",
       "8466                                                          links 11 9 16  election day   \n",
       "433                                       a harsh blow to small businesses  opposing view   \n",
       "5311                        black lives matter loses  america s respect for police surges   \n",
       "\n",
       "                                                                                                                                                                                                                                                                                          text_no_n  \\\n",
       "Unnamed: 0                                                                                                                                                                                                                                                                                            \n",
       "4430        syrian president bashar al assad ventured outside his beleaguered nation for the first time in more than four years wednesday to meet russia s vladimir putin in a surprise visit to kremlin patrons now backing syria s government with military might   the landmark trip is a pow...   \n",
       "1231        it is always interesting to watch democracy in action and iowa is ground zero   many political pundits and media analysts complain about the attention iowa receives from candidates and the media because it goes first  but it also is a state filled with people who are willing ...   \n",
       "8466        by yves smith  be sure to vote today if you haven t already  even if you dislike the presidential choices  downticket races are important   and an overdue note  thanks so much to those of you who came out to meet me in dallas last week  we had a group of 30 35 attend  includi...   \n",
       "433         under new overtime rules  employees will be injured as well   the labor department s change to the overtime rule is a harsh blow to millions of small businesses and their employees  according to nfib research  approximately 44  of small businesses would be affected  the depar...   \n",
       "5311        pinterest  in the war between police and black lives matter  the cop hating race baiters are losing   a new study shows a dramatic increase in respect for law enforcement among all americans  including blacks  who have been repeatedly told they were the victims of a racist  w...   \n",
       "\n",
       "           label  polarity  \n",
       "Unnamed: 0                  \n",
       "4430        REAL     -25.1  \n",
       "1231        REAL      26.3  \n",
       "8466        FAKE      24.6  \n",
       "433         REAL      -0.5  \n",
       "5311        FAKE      19.9  "
      ]
     },
     "execution_count": 241,
     "metadata": {},
     "output_type": "execute_result"
    }
   ],
   "source": [
    "news_test[\"polarity\"]=tidytext.merge(sent,how=\"left\",left_on=\"word\",right_index=True).fillna(0).groupby(level=0).sum()[\"polarity\"]\n",
    "news_test.head()"
   ]
  },
  {
   "cell_type": "code",
   "execution_count": 242,
   "metadata": {},
   "outputs": [
    {
     "name": "stdout",
     "output_type": "stream",
     "text": [
      "Most Positive Articles\n"
     ]
    },
    {
     "data": {
      "text/html": [
       "<div>\n",
       "<style scoped>\n",
       "    .dataframe tbody tr th:only-of-type {\n",
       "        vertical-align: middle;\n",
       "    }\n",
       "\n",
       "    .dataframe tbody tr th {\n",
       "        vertical-align: top;\n",
       "    }\n",
       "\n",
       "    .dataframe thead th {\n",
       "        text-align: right;\n",
       "    }\n",
       "</style>\n",
       "<table border=\"1\" class=\"dataframe\">\n",
       "  <thead>\n",
       "    <tr style=\"text-align: right;\">\n",
       "      <th></th>\n",
       "      <th>title_no_n</th>\n",
       "      <th>text_no_n</th>\n",
       "      <th>label</th>\n",
       "      <th>polarity</th>\n",
       "    </tr>\n",
       "    <tr>\n",
       "      <th>Unnamed: 0</th>\n",
       "      <th></th>\n",
       "      <th></th>\n",
       "      <th></th>\n",
       "      <th></th>\n",
       "    </tr>\n",
       "  </thead>\n",
       "  <tbody>\n",
       "    <tr>\n",
       "      <th>9700</th>\n",
       "      <td>scrabble spells doom for the racial hypothesis of intelligence</td>\n",
       "      <td>11 27  top three nations with elite scrabble players on the wespa ratings list  nigeria is on top  despite constant travel visa rejections to play in world tournaments   besides nigeria  countries like kenya  ghana and uganda also contribute players to the world top 100   an ...</td>\n",
       "      <td>FAKE</td>\n",
       "      <td>326.8</td>\n",
       "    </tr>\n",
       "    <tr>\n",
       "      <th>457</th>\n",
       "      <td>so how s the american middle class  really</td>\n",
       "      <td>mothers lauren ioli  l   and julie nardi read to their children in the public library in frederick  md   which holds story time for children on tuesdays  like other cities  frederick still has many middle income jobs  but they are harder to find   in cincinnati  steve raven h...</td>\n",
       "      <td>REAL</td>\n",
       "      <td>137.6</td>\n",
       "    </tr>\n",
       "    <tr>\n",
       "      <th>1351</th>\n",
       "      <td>democratic debate   s reality check team inspects the claims</td>\n",
       "      <td>cnn  the democratic candidates for president gathered in new hampshire thursday for their fifth debate  and cnn s reality check team spent the night putting their statements and assertions to the test   the team of reporters  researchers and editors across cnn listened throu...</td>\n",
       "      <td>REAL</td>\n",
       "      <td>109.6</td>\n",
       "    </tr>\n",
       "    <tr>\n",
       "      <th>3444</th>\n",
       "      <td>audio  justice scalia on black students at top schools</td>\n",
       "      <td>there are those who contend that it does not benefit african americans to get them into the university of texas where they do not do well  as opposed to having them go to a less advanced school  a slower track school where they do well   scalia said wednesday during oral arg...</td>\n",
       "      <td>REAL</td>\n",
       "      <td>96.6</td>\n",
       "    </tr>\n",
       "    <tr>\n",
       "      <th>973</th>\n",
       "      <td>outsider campaigns seek inside track</td>\n",
       "      <td>cnn  donald trump and bernie sanders are confronting the same paradox  the fate of their insurgent campaigns built on scorn for the political establishment rests on how well they play the inside game   for trump  the challenge is shifting from a strategy of piling up state p...</td>\n",
       "      <td>REAL</td>\n",
       "      <td>91.5</td>\n",
       "    </tr>\n",
       "  </tbody>\n",
       "</table>\n",
       "</div>"
      ],
      "text/plain": [
       "                                                                title_no_n  \\\n",
       "Unnamed: 0                                                                   \n",
       "9700        scrabble spells doom for the racial hypothesis of intelligence   \n",
       "457                            so how s the american middle class  really    \n",
       "1351          democratic debate   s reality check team inspects the claims   \n",
       "3444                audio  justice scalia on black students at top schools   \n",
       "973                                   outsider campaigns seek inside track   \n",
       "\n",
       "                                                                                                                                                                                                                                                                                          text_no_n  \\\n",
       "Unnamed: 0                                                                                                                                                                                                                                                                                            \n",
       "9700        11 27  top three nations with elite scrabble players on the wespa ratings list  nigeria is on top  despite constant travel visa rejections to play in world tournaments   besides nigeria  countries like kenya  ghana and uganda also contribute players to the world top 100   an ...   \n",
       "457         mothers lauren ioli  l   and julie nardi read to their children in the public library in frederick  md   which holds story time for children on tuesdays  like other cities  frederick still has many middle income jobs  but they are harder to find   in cincinnati  steve raven h...   \n",
       "1351         cnn  the democratic candidates for president gathered in new hampshire thursday for their fifth debate  and cnn s reality check team spent the night putting their statements and assertions to the test   the team of reporters  researchers and editors across cnn listened throu...   \n",
       "3444         there are those who contend that it does not benefit african americans to get them into the university of texas where they do not do well  as opposed to having them go to a less advanced school  a slower track school where they do well   scalia said wednesday during oral arg...   \n",
       "973          cnn  donald trump and bernie sanders are confronting the same paradox  the fate of their insurgent campaigns built on scorn for the political establishment rests on how well they play the inside game   for trump  the challenge is shifting from a strategy of piling up state p...   \n",
       "\n",
       "           label  polarity  \n",
       "Unnamed: 0                  \n",
       "9700        FAKE     326.8  \n",
       "457         REAL     137.6  \n",
       "1351        REAL     109.6  \n",
       "3444        REAL      96.6  \n",
       "973         REAL      91.5  "
      ]
     },
     "execution_count": 242,
     "metadata": {},
     "output_type": "execute_result"
    }
   ],
   "source": [
    "print(\"Most Positive Articles\")\n",
    "news_test.sort_values(\"polarity\",ascending=False).head()"
   ]
  },
  {
   "cell_type": "code",
   "execution_count": 243,
   "metadata": {},
   "outputs": [
    {
     "name": "stdout",
     "output_type": "stream",
     "text": [
      "Most Negative Articles\n"
     ]
    },
    {
     "data": {
      "text/html": [
       "<div>\n",
       "<style scoped>\n",
       "    .dataframe tbody tr th:only-of-type {\n",
       "        vertical-align: middle;\n",
       "    }\n",
       "\n",
       "    .dataframe tbody tr th {\n",
       "        vertical-align: top;\n",
       "    }\n",
       "\n",
       "    .dataframe thead th {\n",
       "        text-align: right;\n",
       "    }\n",
       "</style>\n",
       "<table border=\"1\" class=\"dataframe\">\n",
       "  <thead>\n",
       "    <tr style=\"text-align: right;\">\n",
       "      <th></th>\n",
       "      <th>title_no_n</th>\n",
       "      <th>text_no_n</th>\n",
       "      <th>label</th>\n",
       "      <th>polarity</th>\n",
       "    </tr>\n",
       "    <tr>\n",
       "      <th>Unnamed: 0</th>\n",
       "      <th></th>\n",
       "      <th></th>\n",
       "      <th></th>\n",
       "      <th></th>\n",
       "    </tr>\n",
       "  </thead>\n",
       "  <tbody>\n",
       "    <tr>\n",
       "      <th>7622</th>\n",
       "      <td>fact check  trump is right that clinton might cause ww3</td>\n",
       "      <td>artwork by anthony freda  anthonyfreda com   trump claims that clinton s policy on syria would lead to world war 3   let s fact check    the washington post points out that a vote for clinton is a vote for escalating military confrontation in syria and elsewhere   in the rare...</td>\n",
       "      <td>FAKE</td>\n",
       "      <td>-179.0</td>\n",
       "    </tr>\n",
       "    <tr>\n",
       "      <th>4295</th>\n",
       "      <td>the media needs to stop telling this lie about donald trump  i m a sanders supporter   and value honesty</td>\n",
       "      <td>back in june  i first saw mr  trump announcing his candidacy for president  what he said about unauthorized immigrants seemed ridiculous so i laughed  i showed the video to friends  and i laughed again  his words were poorly chosen   but something worse happened  people inter...</td>\n",
       "      <td>REAL</td>\n",
       "      <td>-174.6</td>\n",
       "    </tr>\n",
       "    <tr>\n",
       "      <th>9097</th>\n",
       "      <td>ice agent commits suicide in nyc  leaves note revealing gov t plans to round up   disarm americans during economic   bank collapse   endingfed news network</td>\n",
       "      <td>email print after writing a lengthy suicide note exposing terrifying plans the government has for american citizens  a us customs agent walked onto a pier in nyc and blew his brains out  sources inside the new york city police department have revealed to superstation95  the c...</td>\n",
       "      <td>FAKE</td>\n",
       "      <td>-157.4</td>\n",
       "    </tr>\n",
       "    <tr>\n",
       "      <th>7677</th>\n",
       "      <td>comment on sheriff says cannabis makes people murderers because  rational thought  leads to violence by isaid dilligaf</td>\n",
       "      <td>home   be the change   the state   sheriff says cannabis makes people murderers because  rational thought  leads to violence sheriff says cannabis makes people murderers because  rational thought  leads to violence claire bernish may 10  2016 35 comments  it isn t gang violen...</td>\n",
       "      <td>FAKE</td>\n",
       "      <td>-145.0</td>\n",
       "    </tr>\n",
       "    <tr>\n",
       "      <th>2723</th>\n",
       "      <td>media coverage of gang violence sure looks different when the perpetrators are white</td>\n",
       "      <td>over the weekend  a shootout between three rival biker gangs at a bar in waco  texas  left at least nine gang members dead and 18 others hospitalized with gunshot and stab wounds   it was a huge  devastating tragedy  the new york times reported that law enforcement sources ca...</td>\n",
       "      <td>REAL</td>\n",
       "      <td>-143.5</td>\n",
       "    </tr>\n",
       "  </tbody>\n",
       "</table>\n",
       "</div>"
      ],
      "text/plain": [
       "                                                                                                                                                             title_no_n  \\\n",
       "Unnamed: 0                                                                                                                                                                \n",
       "7622                                                                                                            fact check  trump is right that clinton might cause ww3   \n",
       "4295                                                           the media needs to stop telling this lie about donald trump  i m a sanders supporter   and value honesty   \n",
       "9097        ice agent commits suicide in nyc  leaves note revealing gov t plans to round up   disarm americans during economic   bank collapse   endingfed news network   \n",
       "7677                                             comment on sheriff says cannabis makes people murderers because  rational thought  leads to violence by isaid dilligaf   \n",
       "2723                                                                               media coverage of gang violence sure looks different when the perpetrators are white   \n",
       "\n",
       "                                                                                                                                                                                                                                                                                          text_no_n  \\\n",
       "Unnamed: 0                                                                                                                                                                                                                                                                                            \n",
       "7622        artwork by anthony freda  anthonyfreda com   trump claims that clinton s policy on syria would lead to world war 3   let s fact check    the washington post points out that a vote for clinton is a vote for escalating military confrontation in syria and elsewhere   in the rare...   \n",
       "4295        back in june  i first saw mr  trump announcing his candidacy for president  what he said about unauthorized immigrants seemed ridiculous so i laughed  i showed the video to friends  and i laughed again  his words were poorly chosen   but something worse happened  people inter...   \n",
       "9097        email print after writing a lengthy suicide note exposing terrifying plans the government has for american citizens  a us customs agent walked onto a pier in nyc and blew his brains out  sources inside the new york city police department have revealed to superstation95  the c...   \n",
       "7677        home   be the change   the state   sheriff says cannabis makes people murderers because  rational thought  leads to violence sheriff says cannabis makes people murderers because  rational thought  leads to violence claire bernish may 10  2016 35 comments  it isn t gang violen...   \n",
       "2723        over the weekend  a shootout between three rival biker gangs at a bar in waco  texas  left at least nine gang members dead and 18 others hospitalized with gunshot and stab wounds   it was a huge  devastating tragedy  the new york times reported that law enforcement sources ca...   \n",
       "\n",
       "           label  polarity  \n",
       "Unnamed: 0                  \n",
       "7622        FAKE    -179.0  \n",
       "4295        REAL    -174.6  \n",
       "9097        FAKE    -157.4  \n",
       "7677        FAKE    -145.0  \n",
       "2723        REAL    -143.5  "
      ]
     },
     "execution_count": 243,
     "metadata": {},
     "output_type": "execute_result"
    }
   ],
   "source": [
    "print(\"Most Negative Articles\")\n",
    "news_test.sort_values(\"polarity\",ascending=True).head()"
   ]
  },
  {
   "cell_type": "markdown",
   "metadata": {},
   "source": [
    "Let's see the distribution of sentiments for tweets containing certain words"
   ]
  },
  {
   "cell_type": "code",
   "execution_count": 244,
   "metadata": {},
   "outputs": [
    {
     "data": {
      "image/png": "[encoded data removed]",
      "text/plain": [
       "<Figure size 432x288 with 1 Axes>"
      ]
     },
     "metadata": {},
     "output_type": "display_data"
    }
   ],
   "source": [
    "name1=\"good\"\n",
    "name2=\"bad\"\n",
    "\n",
    "word1=news_test[news_test[\"text_no_n\"].str.contains(name1)][\"polarity\"]\n",
    "word2=news_test[news_test[\"text_no_n\"].str.contains(name2)][\"polarity\"]\n",
    "\n",
    "sns.distplot(word1,label=name1)\n",
    "sns.distplot(word2,label=name2)\n",
    "plt.legend()\n",
    "plt.title(\"Polarity of Articles containing {0} and {1}\".format(name1,name2));"
   ]
  },
  {
   "cell_type": "markdown",
   "metadata": {},
   "source": [
    "Now VADER isn't perfect, but it provides a really interesting glimpse at the sentiment of prose. That's all for this notebook. Check out the tl;dr at the beginning of the notebook. Thanks for reading!"
   ]
  }
 ],
 "metadata": {
  "kernelspec": {
   "display_name": "Python 3",
   "language": "python",
   "name": "python3"
  },
  "language_info": {
   "codemirror_mode": {
    "name": "ipython",
    "version": 3
   },
   "file_extension": ".py",
   "mimetype": "text/x-python",
   "name": "python",
   "nbconvert_exporter": "python",
   "pygments_lexer": "ipython3",
   "version": "3.7.6"
  }
 },
 "nbformat": 4,
 "nbformat_minor": 4
}
